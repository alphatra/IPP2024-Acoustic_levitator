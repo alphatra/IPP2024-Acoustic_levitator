{
 "cells": [
  {
   "cell_type": "code",
   "id": "initial_id",
   "metadata": {
    "collapsed": true,
    "ExecuteTime": {
     "end_time": "2024-06-06T03:57:17.551276Z",
     "start_time": "2024-06-06T03:57:17.514543Z"
    }
   },
   "source": [
    "import numpy as np\n",
    "from scipy.integrate import odeint\n",
    "import matplotlib.pyplot as plt\n",
    "import numba\n",
    "\n",
    "# Define constants\n",
    "frequency = 40000 # Hz\n",
    "wavelength = 343 / frequency # m\n",
    "amplitude = 400 # Increased amplitude\n",
    "rho_air = 1.225 # kg/m^3\n",
    "c_air = 343 # m/s\n",
    "mu_air = 1.82e-5 # Pa*s\n",
    "radius = 0.01 # m\n",
    "rho_particle = 0.01 # kg/m^3\n",
    "c_particle = 900 # m/s\n",
    "mass = (4/3) * np.pi * radius**3 * rho_particle # kg\n",
    "\n",
    "# Gorkov potential coefficients\n",
    "K1 = (1 / (4 * np.pi * c_air**2 * rho_air)) * (1 - (rho_air / rho_particle))\n",
    "K2 = (1 / (8 * np.pi * c_air**2 * rho_air)) * ((rho_particle - rho_air) / (2 * rho_particle + rho_air))\n",
    "\n",
    "# Gorkov potential function with effective amplitude modification\n",
    "@numba.njit\n",
    "def gorkov_potential(z, transducer_distance):\n",
    "    k = 2 * np.pi / wavelength\n",
    "    amplitude_effective = amplitude * (1 + np.cos(k * (transducer_distance - 2 * z)))\n",
    "    return (4 / 3) * np.pi * radius**3 * (K1 * amplitude_effective**2 * (np.cos(2 * k * z) - 1) + 3 * K2 * amplitude_effective**2 * np.cos(2 * k * z))\n",
    "\n",
    "# Ball motion equation\n",
    "@numba.njit\n",
    "def ball_motion(state, dt, transducer_distance):\n",
    "    z, v = state\n",
    "    k = 2 * np.pi / wavelength\n",
    "    d_gorkov_potential_dz = -(8 / 3) * np.pi * radius**3 * K1 * amplitude**2 * k * np.sin(2 * k * z) * (1 + np.cos(k * (transducer_distance - 2 * z)))\n",
    "    acoustic_force_gradient = d_gorkov_potential_dz\n",
    "    drag_force = -6 * np.pi * mu_air * radius * v\n",
    "    gravity_force = -mass * 9.81\n",
    "    total_force = acoustic_force_gradient + drag_force + gravity_force\n",
    "    dv_dt = total_force / mass\n",
    "    dz_dt = v\n",
    "    return [z + dz_dt * dt, v + dv_dt * dt]\n",
    "\n",
    "# Initial conditions and simulation\n",
    "z0 = 50.5 * wavelength\n",
    "v0 = 0 # m/s\n",
    "state0 = [z0, v0]\n",
    "transducer_distance = 100 * wavelength\n",
    "t = np.linspace(0, 5, 1000000)\n",
    "solution = odeint(5, state0, t, args=(transducer_distance,))\n",
    "\n",
    "# Plot results\n",
    "plt.figure(figsize=(10, 6))\n",
    "plt.subplot(2, 1, 1)\n",
    "plt.plot(t, solution[:, 0])\n",
    "plt.title('Position of the particle')\n",
    "plt.xlabel('Time (s)')\n",
    "plt.ylabel('Position (m)')\n",
    "\n",
    "plt.subplot(2, 1, 2)\n",
    "plt.plot(t, solution[:, 1])\n",
    "plt.title('Velocity of the particle')\n",
    "plt.xlabel('Time (s)')\n",
    "plt.ylabel('Velocity (m/s)')\n",
    "\n",
    "plt.tight_layout()\n",
    "plt.show()\n"
   ],
   "outputs": [
    {
     "ename": "error",
     "evalue": "The function and its Jacobian must be callable functions.",
     "output_type": "error",
     "traceback": [
      "\u001B[0;31m---------------------------------------------------------------------------\u001B[0m",
      "\u001B[0;31merror\u001B[0m                                     Traceback (most recent call last)",
      "Cell \u001B[0;32mIn[4], line 49\u001B[0m\n\u001B[1;32m     47\u001B[0m transducer_distance \u001B[38;5;241m=\u001B[39m \u001B[38;5;241m100\u001B[39m \u001B[38;5;241m*\u001B[39m wavelength\n\u001B[1;32m     48\u001B[0m t \u001B[38;5;241m=\u001B[39m np\u001B[38;5;241m.\u001B[39mlinspace(\u001B[38;5;241m0\u001B[39m, \u001B[38;5;241m5\u001B[39m, \u001B[38;5;241m1000000\u001B[39m)\n\u001B[0;32m---> 49\u001B[0m solution \u001B[38;5;241m=\u001B[39m odeint(\u001B[38;5;241m5\u001B[39m, state0, t, args\u001B[38;5;241m=\u001B[39m(transducer_distance,))\n\u001B[1;32m     51\u001B[0m \u001B[38;5;66;03m# Plot results\u001B[39;00m\n\u001B[1;32m     52\u001B[0m plt\u001B[38;5;241m.\u001B[39mfigure(figsize\u001B[38;5;241m=\u001B[39m(\u001B[38;5;241m10\u001B[39m, \u001B[38;5;241m6\u001B[39m))\n",
      "File \u001B[0;32m/opt/anaconda3/lib/python3.11/site-packages/scipy/integrate/_odepack_py.py:242\u001B[0m, in \u001B[0;36modeint\u001B[0;34m(func, y0, t, args, Dfun, col_deriv, full_output, ml, mu, rtol, atol, tcrit, h0, hmax, hmin, ixpr, mxstep, mxhnil, mxordn, mxords, printmessg, tfirst)\u001B[0m\n\u001B[1;32m    240\u001B[0m t \u001B[38;5;241m=\u001B[39m copy(t)\n\u001B[1;32m    241\u001B[0m y0 \u001B[38;5;241m=\u001B[39m copy(y0)\n\u001B[0;32m--> 242\u001B[0m output \u001B[38;5;241m=\u001B[39m _odepack\u001B[38;5;241m.\u001B[39modeint(func, y0, t, args, Dfun, col_deriv, ml, mu,\n\u001B[1;32m    243\u001B[0m                          full_output, rtol, atol, tcrit, h0, hmax, hmin,\n\u001B[1;32m    244\u001B[0m                          ixpr, mxstep, mxhnil, mxordn, mxords,\n\u001B[1;32m    245\u001B[0m                          \u001B[38;5;28mint\u001B[39m(\u001B[38;5;28mbool\u001B[39m(tfirst)))\n\u001B[1;32m    246\u001B[0m \u001B[38;5;28;01mif\u001B[39;00m output[\u001B[38;5;241m-\u001B[39m\u001B[38;5;241m1\u001B[39m] \u001B[38;5;241m<\u001B[39m \u001B[38;5;241m0\u001B[39m:\n\u001B[1;32m    247\u001B[0m     warning_msg \u001B[38;5;241m=\u001B[39m _msgs[output[\u001B[38;5;241m-\u001B[39m\u001B[38;5;241m1\u001B[39m]] \u001B[38;5;241m+\u001B[39m \u001B[38;5;124m\"\u001B[39m\u001B[38;5;124m Run with full_output = 1 to get quantitative information.\u001B[39m\u001B[38;5;124m\"\u001B[39m\n",
      "\u001B[0;31merror\u001B[0m: The function and its Jacobian must be callable functions."
     ]
    }
   ],
   "execution_count": 4
  },
  {
   "cell_type": "code",
   "source": [],
   "metadata": {
    "collapsed": false
   },
   "id": "dc99b804e26b81d",
   "outputs": [],
   "execution_count": null
  },
  {
   "metadata": {},
   "cell_type": "code",
   "source": "",
   "id": "a85e65902fa2b00b",
   "outputs": [],
   "execution_count": null
  }
 ],
 "metadata": {
  "kernelspec": {
   "display_name": "Python 3",
   "language": "python",
   "name": "python3"
  },
  "language_info": {
   "codemirror_mode": {
    "name": "ipython",
    "version": 2
   },
   "file_extension": ".py",
   "mimetype": "text/x-python",
   "name": "python",
   "nbconvert_exporter": "python",
   "pygments_lexer": "ipython2",
   "version": "2.7.6"
  }
 },
 "nbformat": 4,
 "nbformat_minor": 5
}
