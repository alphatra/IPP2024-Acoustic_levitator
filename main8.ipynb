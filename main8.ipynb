{
 "cells": [
  {
   "cell_type": "code",
   "id": "initial_id",
   "metadata": {
    "collapsed": true,
    "ExecuteTime": {
     "end_time": "2024-05-22T15:12:32.942820Z",
     "start_time": "2024-05-22T15:12:32.848862Z"
    }
   },
   "source": [
    "from fenics import *\n",
    "import numpy as np\n",
    "import matplotlib.pyplot as plt\n",
    "\n",
    "# Parametry symulacji\n",
    "frequency = 40000  # Hz\n",
    "wavelength = 343 / frequency  # m\n",
    "rho_air = 1.225  # kg/m^3\n",
    "mu_air = 1.82e-5  # Pa*s\n",
    "radius = 0.01  # m\n",
    "rho_particle = 30  # kg/m^3\n",
    "c_particle = 900  # m/s\n",
    "\n",
    "# Definicja domeny\n",
    "L = 0.1  # długość kanału\n",
    "H = 0.02  # wysokość kanału\n",
    "mesh = RectangleMesh(Point(0, 0), Point(L, H), 50, 10)\n",
    "\n",
    "# Funkcje próbne i testowe\n",
    "V = VectorFunctionSpace(mesh, 'P', 2)\n",
    "Q = FunctionSpace(mesh, 'P', 1)\n",
    "u = TrialFunction(V)\n",
    "v = TestFunction(V)\n",
    "p = TrialFunction(Q)\n",
    "q = TestFunction(Q)\n",
    "\n",
    "# Warunki brzegowe\n",
    "noslip = Constant((0, 0))\n",
    "bc1 = DirichletBC(V, noslip, 'on_boundary')\n",
    "\n",
    "# Siły i źródła\n",
    "f = Constant((0, 0))\n",
    "\n",
    "# Definicja równań Naviera-Stokesa\n",
    "u_k = Function(V)\n",
    "p_k = Function(Q)\n",
    "u_ = 0.5 * (u + u_k)\n",
    "F1 = rho_air * dot((u - u_k) / dt, v) * dx \\\n",
    "   + rho_air * dot(dot(u_k, nabla_grad(u_k)), v) * dx \\\n",
    "   + mu_air * inner(grad(u), grad(v)) * dx \\\n",
    "   - div(v) * p * dx \\\n",
    "   - dot(f, v) * dx\n",
    "a1, L1 = lhs(F1), rhs(F1)\n",
    "\n",
    "a2 = div(u) * q * dx\n",
    "L2 = dot(Constant(0), q) * dx\n",
    "\n",
    "# Rozwiązanie problemu\n",
    "u = Function(V)\n",
    "p = Function(Q)\n",
    "solve(a1 == L1, u, bc1)\n",
    "solve(a2 == L2, p)\n",
    "\n",
    "# Wizualizacja wyników\n",
    "plot(u, title='Prędkość')\n",
    "plt.show()\n",
    "\n",
    "plot(p, title='Ciśnienie')\n",
    "plt.show()\n"
   ],
   "outputs": [
    {
     "ename": "ModuleNotFoundError",
     "evalue": "No module named 'fenics'",
     "output_type": "error",
     "traceback": [
      "\u001B[0;31m---------------------------------------------------------------------------\u001B[0m",
      "\u001B[0;31mModuleNotFoundError\u001B[0m                       Traceback (most recent call last)",
      "Cell \u001B[0;32mIn[12], line 1\u001B[0m\n\u001B[0;32m----> 1\u001B[0m \u001B[38;5;28;01mfrom\u001B[39;00m \u001B[38;5;21;01mfenics\u001B[39;00m \u001B[38;5;28;01mimport\u001B[39;00m \u001B[38;5;241m*\u001B[39m\n\u001B[1;32m      2\u001B[0m \u001B[38;5;28;01mimport\u001B[39;00m \u001B[38;5;21;01mnumpy\u001B[39;00m \u001B[38;5;28;01mas\u001B[39;00m \u001B[38;5;21;01mnp\u001B[39;00m\n\u001B[1;32m      3\u001B[0m \u001B[38;5;28;01mimport\u001B[39;00m \u001B[38;5;21;01mmatplotlib\u001B[39;00m\u001B[38;5;21;01m.\u001B[39;00m\u001B[38;5;21;01mpyplot\u001B[39;00m \u001B[38;5;28;01mas\u001B[39;00m \u001B[38;5;21;01mplt\u001B[39;00m\n",
      "\u001B[0;31mModuleNotFoundError\u001B[0m: No module named 'fenics'"
     ]
    }
   ],
   "execution_count": 12
  },
  {
   "metadata": {
    "ExecuteTime": {
     "end_time": "2024-05-22T15:12:15.334206Z",
     "start_time": "2024-05-22T15:12:11.213364Z"
    }
   },
   "cell_type": "code",
   "source": "!pip install fenics",
   "id": "bd45dbff76fe136f",
   "outputs": [
    {
     "name": "stdout",
     "output_type": "stream",
     "text": [
      "Collecting fenics\r\n",
      "  Downloading fenics-2019.1.0-py3-none-any.whl.metadata (1.5 kB)\r\n",
      "Collecting fenics-ffc<2019.2,>=2019.1.0 (from fenics)\r\n",
      "  Downloading fenics_ffc-2019.1.0.post0-py3-none-any.whl.metadata (1.6 kB)\r\n",
      "Collecting fenics-fiat<2019.2,>=2019.1.0 (from fenics)\r\n",
      "  Downloading fenics_fiat-2019.1.0-py3-none-any.whl.metadata (420 bytes)\r\n",
      "Collecting fenics-ufl<2019.2,>=2019.1.0 (from fenics)\r\n",
      "  Downloading fenics_ufl-2019.1.0-py3-none-any.whl.metadata (1.1 kB)\r\n",
      "Collecting fenics-dijitso<2019.2,>=2019.1.0 (from fenics)\r\n",
      "  Downloading fenics_dijitso-2019.1.0-py3-none-any.whl.metadata (1.2 kB)\r\n",
      "Requirement already satisfied: numpy in /opt/anaconda3/lib/python3.11/site-packages (from fenics-dijitso<2019.2,>=2019.1.0->fenics) (1.26.4)\r\n",
      "Requirement already satisfied: sympy in /opt/anaconda3/lib/python3.11/site-packages (from fenics-fiat<2019.2,>=2019.1.0->fenics) (1.12)\r\n",
      "Requirement already satisfied: mpmath>=0.19 in /opt/anaconda3/lib/python3.11/site-packages (from sympy->fenics-fiat<2019.2,>=2019.1.0->fenics) (1.3.0)\r\n",
      "Downloading fenics-2019.1.0-py3-none-any.whl (1.5 kB)\r\n",
      "Downloading fenics_dijitso-2019.1.0-py3-none-any.whl (46 kB)\r\n",
      "\u001B[2K   \u001B[90m━━━━━━━━━━━━━━━━━━━━━━━━━━━━━━━━━━━━━━━━\u001B[0m \u001B[32m46.7/46.7 kB\u001B[0m \u001B[31m1.5 MB/s\u001B[0m eta \u001B[36m0:00:00\u001B[0m\r\n",
      "\u001B[?25hDownloading fenics_ffc-2019.1.0.post0-py3-none-any.whl (362 kB)\r\n",
      "\u001B[2K   \u001B[90m━━━━━━━━━━━━━━━━━━━━━━━━━━━━━━━━━━━━━━━━\u001B[0m \u001B[32m363.0/363.0 kB\u001B[0m \u001B[31m6.6 MB/s\u001B[0m eta \u001B[36m0:00:00\u001B[0ma \u001B[36m0:00:01\u001B[0m\r\n",
      "\u001B[?25hDownloading fenics_fiat-2019.1.0-py3-none-any.whl (112 kB)\r\n",
      "\u001B[2K   \u001B[90m━━━━━━━━━━━━━━━━━━━━━━━━━━━━━━━━━━━━━━━━\u001B[0m \u001B[32m112.5/112.5 kB\u001B[0m \u001B[31m12.5 MB/s\u001B[0m eta \u001B[36m0:00:00\u001B[0m\r\n",
      "\u001B[?25hDownloading fenics_ufl-2019.1.0-py3-none-any.whl (282 kB)\r\n",
      "\u001B[2K   \u001B[90m━━━━━━━━━━━━━━━━━━━━━━━━━━━━━━━━━━━━━━━━\u001B[0m \u001B[32m282.7/282.7 kB\u001B[0m \u001B[31m18.6 MB/s\u001B[0m eta \u001B[36m0:00:00\u001B[0m\r\n",
      "\u001B[?25hInstalling collected packages: fenics-ufl, fenics-dijitso, fenics-fiat, fenics-ffc, fenics\r\n",
      "  Attempting uninstall: fenics-ufl\r\n",
      "    Found existing installation: fenics-ufl 2024.1.0.post1\r\n",
      "    Uninstalling fenics-ufl-2024.1.0.post1:\r\n",
      "      Successfully uninstalled fenics-ufl-2024.1.0.post1\r\n",
      "\u001B[31mERROR: pip's dependency resolver does not currently take into account all the packages that are installed. This behaviour is the source of the following dependency conflicts.\r\n",
      "fenics-ffcx 0.8.0 requires fenics-ufl<2024.2.0,>=2024.1.0, but you have fenics-ufl 2019.1.0 which is incompatible.\u001B[0m\u001B[31m\r\n",
      "\u001B[0mSuccessfully installed fenics-2019.1.0 fenics-dijitso-2019.1.0 fenics-ffc-2019.1.0.post0 fenics-fiat-2019.1.0 fenics-ufl-2019.1.0\r\n"
     ]
    }
   ],
   "execution_count": 10
  },
  {
   "metadata": {},
   "cell_type": "code",
   "outputs": [],
   "execution_count": null,
   "source": "",
   "id": "c993be32c64c3df9"
  }
 ],
 "metadata": {
  "kernelspec": {
   "display_name": "Python 3",
   "language": "python",
   "name": "python3"
  },
  "language_info": {
   "codemirror_mode": {
    "name": "ipython",
    "version": 2
   },
   "file_extension": ".py",
   "mimetype": "text/x-python",
   "name": "python",
   "nbconvert_exporter": "python",
   "pygments_lexer": "ipython2",
   "version": "2.7.6"
  }
 },
 "nbformat": 4,
 "nbformat_minor": 5
}
